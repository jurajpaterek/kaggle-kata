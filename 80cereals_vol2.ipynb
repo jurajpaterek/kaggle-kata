{
 "cells": [
  {
   "cell_type": "markdown",
   "metadata": {},
   "source": [
    "# K-means clustering\n",
    "Create clusters (K-means) and visualize them.\n",
    "\n",
    "Description of data https://www.kaggle.com/datasets/crawford/80-cereals?resource=download"
   ]
  },
  {
   "cell_type": "code",
   "execution_count": null,
   "metadata": {},
   "outputs": [],
   "source": [
    "import os\n",
    "\n",
    "import sklearn.cluster as cluster\n",
    "\n",
    "import pandas as pd\n",
    "import plotly.express as px\n",
    "\n",
    "%load_ext nb_black"
   ]
  },
  {
   "cell_type": "code",
   "execution_count": null,
   "metadata": {},
   "outputs": [],
   "source": [
    "DATA_FOLDER = \"data\""
   ]
  },
  {
   "cell_type": "code",
   "execution_count": null,
   "metadata": {},
   "outputs": [],
   "source": [
    "df_all = pd.read_csv(os.path.join(DATA_FOLDER, \"data_cereal.csv\"))"
   ]
  },
  {
   "cell_type": "markdown",
   "metadata": {},
   "source": [
    "## Content:\n",
    "* Name: Name of cereal\n",
    "* mfr: Manufacturer of cereal\n",
    "    * A = American Home Food Products; G = General Mills; K = Kelloggs; N = Nabisco; P = Post; Q = Quaker Oats; R = Ralston Purina;\n",
    "* type:\n",
    "    * cold; hot\n",
    "* calories: calories per serving\n",
    "* protein: grams of protein\n",
    "* fat: grams of fat\n",
    "* sodium: milligrams of sodium\n",
    "* fiber: grams of dietary fiber\n",
    "* carbo: grams of complex carbohydrates\n",
    "* sugars: grams of sugars\n",
    "* potass: milligrams of potassium\n",
    "* vitamins: vitamins and minerals - 0, 25, or 100, indicating the typical percentage of FDA recommended\n",
    "* shelf: display shelf (1, 2, or 3, counting from the floor)\n",
    "* weight: weight in ounces of one serving\n",
    "* cups: number of cups in one serving\n",
    "* rating: a rating of the cereals (Possibly from Consumer Reports?)"
   ]
  },
  {
   "cell_type": "code",
   "execution_count": null,
   "metadata": {
    "scrolled": true
   },
   "outputs": [],
   "source": [
    "df_all.head()"
   ]
  },
  {
   "cell_type": "code",
   "execution_count": null,
   "metadata": {},
   "outputs": [],
   "source": [
    "df_all.info()"
   ]
  },
  {
   "cell_type": "code",
   "execution_count": null,
   "metadata": {},
   "outputs": [],
   "source": [
    "df_all.describe()"
   ]
  },
  {
   "cell_type": "code",
   "execution_count": null,
   "metadata": {},
   "outputs": [],
   "source": [
    "delete_list = [\"name\", \"mfr\", \"type\"]\n",
    "matrix_list = [item for item in list(df_all.columns) if item not in delete_list]"
   ]
  },
  {
   "cell_type": "code",
   "execution_count": null,
   "metadata": {
    "scrolled": false
   },
   "outputs": [],
   "source": [
    "fig = px.scatter_matrix(\n",
    "    df_all,\n",
    "    dimensions=matrix_list,\n",
    ")\n",
    "fig.show()"
   ]
  },
  {
   "cell_type": "code",
   "execution_count": null,
   "metadata": {
    "scrolled": true
   },
   "outputs": [],
   "source": [
    "for col in matrix_list:\n",
    "    fig = px.scatter(df_all, x=\"rating\", y=col)\n",
    "    fig.show()"
   ]
  },
  {
   "cell_type": "markdown",
   "metadata": {},
   "source": [
    "## Intro:\n",
    "* minimization of inertia (within-cluster sum-of-squares criterion)\n",
    "$$ \\sum_{n=0}^{n} \\min_{\\mu_j \\in C}(\\|x-\\mu_j\\|^2) $$\n",
    "* initiation of clusters:\n",
    "    * random initial centroids \n",
    "    * k-means++ - distant initial centroids\n",
    "* drawback\n",
    "    * algo assumes convex, isotropic clusters, works poorly on irregular shapes of clusters\n",
    "    * “curse of dimensionality” - Inertia is not a normalized metric, tends to become inflated in multiple dimensions $ \\Rightarrow $ PCA"
   ]
  },
  {
   "cell_type": "markdown",
   "metadata": {},
   "source": [
    "## Try out of K-means clustering"
   ]
  },
  {
   "cell_type": "code",
   "execution_count": null,
   "metadata": {},
   "outputs": [],
   "source": [
    "from sklearn.preprocessing import scale"
   ]
  },
  {
   "cell_type": "code",
   "execution_count": null,
   "metadata": {},
   "outputs": [],
   "source": [
    "df_cluster = df_all.copy()\n",
    "df_stnd = df_all.copy()"
   ]
  },
  {
   "cell_type": "code",
   "execution_count": null,
   "metadata": {
    "scrolled": true
   },
   "outputs": [],
   "source": [
    "# Standardize numerical columns\n",
    "num_cols = [\n",
    "    col for col in df_stnd.columns if df_stnd[col].dtype in [\"int64\", \"float64\"]\n",
    "]\n",
    "\n",
    "df_stnd[num_cols] = df_stnd[num_cols].pipe(scale)"
   ]
  },
  {
   "cell_type": "code",
   "execution_count": null,
   "metadata": {},
   "outputs": [],
   "source": [
    "fig = px.scatter(df_cluster, x=\"sugars\", y=\"sodium\", title=\"Raw data\")\n",
    "fig.show()\n",
    "\n",
    "fig = px.scatter(df_stnd, x=\"sugars\", y=\"sodium\", title=\"Standardized data\")\n",
    "fig.show()"
   ]
  },
  {
   "cell_type": "code",
   "execution_count": null,
   "metadata": {
    "scrolled": false
   },
   "outputs": [],
   "source": [
    "# Apply Kmeans clustering with 3 clusters\n",
    "km = cluster.KMeans(n_clusters=3)\n",
    "km = km.fit(df_stnd[[\"sugars\", \"sodium\"]])\n",
    "\n",
    "df_stnd[\"cluster\"] = km.labels_.astype(\"str\")\n",
    "\n",
    "if \"cluster\" in df_cluster.columns:\n",
    "    if ~df_cluster[\"cluster\"].equals(df_stnd[\"cluster\"]):\n",
    "        df_cluster[\"cluster\"] = df_stnd[\"cluster\"]\n",
    "    else:\n",
    "        pass\n",
    "else:\n",
    "    df_cluster = pd.concat([df_cluster, df_stnd[\"cluster\"]], axis=\"columns\")"
   ]
  },
  {
   "cell_type": "code",
   "execution_count": null,
   "metadata": {
    "scrolled": false
   },
   "outputs": [],
   "source": [
    "fig = px.scatter(df_stnd, x=\"sugars\", y=\"sodium\", color=\"cluster\")\n",
    "fig.show()"
   ]
  },
  {
   "cell_type": "markdown",
   "metadata": {},
   "source": [
    "## Evaluation of clustering\n",
    "* run K-means clustering with n_clusters = 2-10\n",
    "* evaluate each of the clustering\n",
    "* choose the n_clusters with best performance"
   ]
  },
  {
   "cell_type": "code",
   "execution_count": null,
   "metadata": {
    "scrolled": false
   },
   "outputs": [],
   "source": [
    "max_clusters = 10\n",
    "inertia = []\n",
    "centroids_list = []\n",
    "n_clusters_list = list(range(1, max_clusters + 1))\n",
    "\n",
    "for n in n_clusters_list:\n",
    "    km = cluster.KMeans(n_clusters=n)\n",
    "    km = km.fit(df_stnd[[\"sugars\", \"sodium\"]])\n",
    "\n",
    "    print(f\"Number of clusters {n}, Inertia: {km.inertia_}\")\n",
    "    inertia.append(km.inertia_)\n",
    "\n",
    "    labels_col = f\"labels_n={n}\"\n",
    "    df_stnd[labels_col] = km.labels_.astype(\"str\")\n",
    "\n",
    "    centroids_list.append(km.cluster_centers_)\n",
    "\n",
    "    scat = px.scatter(df_stnd, x=\"sugars\", y=\"sodium\", color=labels_col)\n",
    "    scat.show()"
   ]
  },
  {
   "cell_type": "markdown",
   "metadata": {},
   "source": [
    "### Elbow evaluation method"
   ]
  },
  {
   "cell_type": "code",
   "execution_count": null,
   "metadata": {},
   "outputs": [],
   "source": [
    "df_eval = pd.DataFrame(data=inertia, index=n_clusters_list, columns=[\"inertia\"])\n",
    "df_eval.index.name = \"clusters\"\n",
    "\n",
    "df_eval[\"improvement\"] = -df_eval[\"inertia\"].diff() / df_eval[\"inertia\"].shift()\n",
    "\n",
    "display(df_eval)\n",
    "\n",
    "scat = px.scatter(\n",
    "    df_eval,\n",
    "    x=df_eval.index,\n",
    "    y=\"inertia\",\n",
    ")\n",
    "scat.show()\n",
    "\n",
    "impro = px.scatter(df_eval, x=df_eval.index, y=\"improvement\")\n",
    "impro.show()"
   ]
  },
  {
   "cell_type": "markdown",
   "metadata": {},
   "source": [
    "### Silhouette Analysis\n",
    "Helps to determine degree of separation between the clusters. For each sample:\n",
    "* Compute the average distance from all data points in the same cluster (ai).\n",
    "* Compute the average distance from all data points in the closest cluster (bi).\n",
    "* Compute the silhouette coefficient:\n",
    "$$ \\frac{b_i-a_i}{\\max{a_i,b_i)}} $$\n",
    "\n",
    "The coefficient can take values in the interval [-1, 1]. It is:\n",
    "* 0 –> the sample is very close to the neighboring clusters.\n",
    "* 1 –> the sample is far away from the neighboring clusters.\n",
    "* -1 –> the sample is assigned to the wrong clusters.\n",
    "\n",
    "Well clustered datase has  silhouette average score well above 0.5."
   ]
  },
  {
   "cell_type": "code",
   "execution_count": null,
   "metadata": {},
   "outputs": [],
   "source": [
    "import matplotlib.pyplot as plt\n",
    "import numpy as np\n",
    "\n",
    "from sklearn.metrics import silhouette_samples"
   ]
  },
  {
   "cell_type": "code",
   "execution_count": null,
   "metadata": {
    "scrolled": false
   },
   "outputs": [],
   "source": [
    "# Select n_clusters for silhouette analysis\n",
    "\n",
    "average_scores = []\n",
    "san = [2, 3, 4, 5]\n",
    "\n",
    "# Reduce list of centroids for n_clusters for silhouette analysis\n",
    "san_centroids_list = centroids_list[0:4]\n",
    "\n",
    "for i, k in enumerate(san):\n",
    "    # for i, k in enumerate([2]):\n",
    "    fig, (ax1, ax2) = plt.subplots(1, 2)\n",
    "    fig.set_size_inches(18, 7)\n",
    "\n",
    "    # Load labels and centroids for curren n_clusters\n",
    "    labels_col = f\"labels_n={k}\"\n",
    "    labels = df_stnd[labels_col]\n",
    "    centroids = san_centroids_list[i]\n",
    "\n",
    "    # Get silhouette samples\n",
    "    silhouette_vals = silhouette_samples(df_stnd[[\"sugars\", \"sodium\"]], labels)\n",
    "\n",
    "    # Silhouette plot\n",
    "    y_ticks = []\n",
    "    y_lower, y_upper = 0, 0\n",
    "\n",
    "    for i, clstr in enumerate(np.unique(labels)):\n",
    "        cluster_silhouette_vals = silhouette_vals[labels == clstr]\n",
    "        cluster_silhouette_vals.sort()\n",
    "        y_upper += len(cluster_silhouette_vals)\n",
    "        ax1.barh(\n",
    "            range(y_lower, y_upper), cluster_silhouette_vals, edgecolor=\"none\", height=1\n",
    "        )\n",
    "        ax1.text(-0.03, (y_lower + y_upper) / 2, str(i + 1))\n",
    "        y_lower += len(cluster_silhouette_vals)\n",
    "\n",
    "    # Get the average silhouette score and plot it\n",
    "    avg_score = np.mean(silhouette_vals)\n",
    "    average_scores.append(avg_score)\n",
    "\n",
    "    ax1.axvline(avg_score, linestyle=\"--\", linewidth=2, color=\"green\")\n",
    "    ax1.set_yticks([])\n",
    "    ax1.set_xlim([-0.1, 1])\n",
    "    ax1.set_xlabel(\"Silhouette coefficient values\")\n",
    "    ax1.set_ylabel(\"Cluster labels\")\n",
    "    ax1.set_title(\"Silhouette plot for the various clusters\", y=1.02)\n",
    "\n",
    "    # Scatter plot of data colored with labels\n",
    "    ax2.scatter(\n",
    "        df_stnd[\"sugars\"],\n",
    "        df_stnd[\"sodium\"],\n",
    "        c=df_stnd[labels_col].values.astype(int),\n",
    "    )\n",
    "    ax2.scatter(centroids[:, 0], centroids[:, 1], marker=\"*\", c=\"r\", s=250)\n",
    "    ax2.set_xlim([-2, 2])\n",
    "    ax2.set_xlim([-2, 2])\n",
    "    ax2.set_xlabel(\"Sugars\")\n",
    "    ax2.set_ylabel(\"Sodium\")\n",
    "    ax2.set_title(\"Sugars-sodium clusters\", y=1.02)\n",
    "    ax2.set_aspect(\"equal\")\n",
    "    plt.tight_layout()\n",
    "    plt.suptitle(\n",
    "        f\"Silhouette analysis using k = {k}, silhouette average score = {avg_score:.3f}, inertia = {df_eval['inertia'].loc[k]:.1f}\",\n",
    "        fontsize=16,\n",
    "        fontweight=\"semibold\",\n",
    "        y=1.05,\n",
    "    )"
   ]
  },
  {
   "cell_type": "code",
   "execution_count": null,
   "metadata": {},
   "outputs": [],
   "source": [
    "df_eval = pd.concat(\n",
    "    [\n",
    "        df_eval,\n",
    "        pd.DataFrame(data=average_scores, index=san, columns=[\"silhouette avg score\"]),\n",
    "    ],\n",
    "    axis=\"columns\",\n",
    ")\n",
    "\n",
    "df_eval"
   ]
  },
  {
   "cell_type": "markdown",
   "metadata": {},
   "source": [
    "# Check K-means method for evaluation of the clustering"
   ]
  },
  {
   "cell_type": "markdown",
   "metadata": {},
   "source": [
    "## Cluster the data [Juraj]\n",
    "* Using K-Means (Univariate, Multivariate)\n",
    "* Evaluate quality of the clustering (inertia)\n",
    "* Visualize the clustering"
   ]
  }
 ],
 "metadata": {
  "kernelspec": {
   "display_name": "Python 3",
   "language": "python",
   "name": "python3"
  },
  "language_info": {
   "codemirror_mode": {
    "name": "ipython",
    "version": 3
   },
   "file_extension": ".py",
   "mimetype": "text/x-python",
   "name": "python",
   "nbconvert_exporter": "python",
   "pygments_lexer": "ipython3",
   "version": "3.7.6"
  }
 },
 "nbformat": 4,
 "nbformat_minor": 5
}
