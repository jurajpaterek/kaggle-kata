{
 "cells": [
  {
   "cell_type": "markdown",
   "id": "4130db18",
   "metadata": {},
   "source": [
    "Create clusters (K-means) and visualize them.\n",
    "\n",
    "Description of data https://www.kaggle.com/datasets/crawford/80-cereals?resource=download"
   ]
  },
  {
   "cell_type": "code",
   "execution_count": null,
   "id": "4524ece9",
   "metadata": {},
   "outputs": [],
   "source": [
    "import os\n",
    "\n",
    "import sklearn.cluster as cluster\n",
    "\n",
    "import pandas as pd\n",
    "import plotly.express as px\n",
    "\n",
    "%load_ext nb_black"
   ]
  },
  {
   "cell_type": "code",
   "execution_count": null,
   "id": "c6197d72",
   "metadata": {},
   "outputs": [],
   "source": [
    "DATA_FOLDER = \"data\""
   ]
  },
  {
   "cell_type": "code",
   "execution_count": null,
   "id": "31b8e4dc",
   "metadata": {},
   "outputs": [],
   "source": [
    "df_all = pd.read_csv(os.path.join(DATA_FOLDER, \"data_cereal.csv\"))"
   ]
  },
  {
   "cell_type": "markdown",
   "id": "3a29bcf3",
   "metadata": {},
   "source": [
    "## Content:\n",
    "* Name: Name of cereal\n",
    "* mfr: Manufacturer of cereal\n",
    "    * A = American Home Food Products; G = General Mills; K = Kelloggs; N = Nabisco; P = Post; Q = Quaker Oats; R = Ralston Purina;\n",
    "* type:\n",
    "    * cold; hot\n",
    "* calories: calories per serving\n",
    "* protein: grams of protein\n",
    "* fat: grams of fat\n",
    "* sodium: milligrams of sodium\n",
    "* fiber: grams of dietary fiber\n",
    "* carbo: grams of complex carbohydrates\n",
    "* sugars: grams of sugars\n",
    "* potass: milligrams of potassium\n",
    "* vitamins: vitamins and minerals - 0, 25, or 100, indicating the typical percentage of FDA recommended\n",
    "* shelf: display shelf (1, 2, or 3, counting from the floor)\n",
    "* weight: weight in ounces of one serving\n",
    "* cups: number of cups in one serving\n",
    "* rating: a rating of the cereals (Possibly from Consumer Reports?)"
   ]
  },
  {
   "cell_type": "code",
   "execution_count": null,
   "id": "7222ff53",
   "metadata": {
    "scrolled": true
   },
   "outputs": [],
   "source": [
    "df_all.head()"
   ]
  },
  {
   "cell_type": "code",
   "execution_count": null,
   "id": "fc700d05",
   "metadata": {},
   "outputs": [],
   "source": [
    "df_all.info()"
   ]
  },
  {
   "cell_type": "code",
   "execution_count": null,
   "id": "e805868d",
   "metadata": {},
   "outputs": [],
   "source": [
    "df_all.describe()"
   ]
  },
  {
   "cell_type": "code",
   "execution_count": null,
   "id": "f23d01a9",
   "metadata": {},
   "outputs": [],
   "source": [
    "delete_list = [\"name\", \"mfr\", \"type\"]\n",
    "matrix_list = [item for item in list(df_all.columns) if item not in delete_list]"
   ]
  },
  {
   "cell_type": "code",
   "execution_count": null,
   "id": "8313e9ca",
   "metadata": {
    "scrolled": false
   },
   "outputs": [],
   "source": [
    "fig = px.scatter_matrix(df_all, dimensions=matrix_list)\n",
    "fig.show()"
   ]
  },
  {
   "cell_type": "code",
   "execution_count": null,
   "id": "8bba1594",
   "metadata": {
    "scrolled": false
   },
   "outputs": [],
   "source": [
    "# for col in matrix_list:\n",
    "#     fig = px.scatter(df_all, x=\"rating\", y=col)\n",
    "#     fig.show()"
   ]
  },
  {
   "cell_type": "code",
   "execution_count": null,
   "id": "bb3d741b",
   "metadata": {},
   "outputs": [],
   "source": [
    "kmeans = cluster.KMeans(n_clusters=2)\n",
    "kmeans = kmeans.fit(df_all[[\"sugars\", \"rating\"]])"
   ]
  },
  {
   "cell_type": "code",
   "execution_count": null,
   "id": "1a0799da",
   "metadata": {},
   "outputs": [],
   "source": [
    "# kmeans.cluster_centers_"
   ]
  },
  {
   "cell_type": "code",
   "execution_count": null,
   "id": "1f94178e",
   "metadata": {
    "scrolled": true
   },
   "outputs": [],
   "source": [
    "df_all[\"Cluster\"] = kmeans.labels_.astype(\"str\")"
   ]
  },
  {
   "cell_type": "code",
   "execution_count": null,
   "id": "f70caab5",
   "metadata": {},
   "outputs": [],
   "source": [
    "# df_all.info()"
   ]
  },
  {
   "cell_type": "code",
   "execution_count": null,
   "id": "dd58f6af",
   "metadata": {},
   "outputs": [],
   "source": [
    "# df_all[\"Cluster\"].value_counts()"
   ]
  },
  {
   "cell_type": "code",
   "execution_count": null,
   "id": "d72adbee",
   "metadata": {},
   "outputs": [],
   "source": [
    "fig = px.scatter(\n",
    "    df_all,\n",
    "    x=\"rating\",\n",
    "    y=\"sugars\",\n",
    "    color=\"Cluster\",\n",
    ")\n",
    "fig.show()"
   ]
  },
  {
   "cell_type": "markdown",
   "id": "20a88965",
   "metadata": {},
   "source": [
    "# Intro:\n",
    "* minimization of inertia (within-cluster sum-of-squares criterion)\n",
    "$$ \\sum_{n=0}^{n} \\min_{\\mu_j \\in C}(\\|x-\\mu_j\\|^2) $$\n",
    "* initiation of clusters:\n",
    "    * random initial centroids \n",
    "    * k-means++ - distant initial centroids\n",
    "* drawback\n",
    "    * algo assumes convex, isotropic clusters, works poorly on irregular shapes of clusters\n",
    "    * “curse of dimensionality” - Inertia is not a normalized metric, tends to become inflated in multiple dimensions $ \\Rightarrow $ PCA"
   ]
  },
  {
   "cell_type": "markdown",
   "id": "a91c1e3b",
   "metadata": {},
   "source": [
    "## Evaluate single variate clustering\n",
    "* find a method for clustering evaluation"
   ]
  },
  {
   "cell_type": "code",
   "execution_count": null,
   "id": "1b4bb512",
   "metadata": {},
   "outputs": [],
   "source": [
    "df_cluster = df_all.copy()\n",
    "df_cluster[\"zero\"] = 0"
   ]
  },
  {
   "cell_type": "code",
   "execution_count": null,
   "id": "9c8e3687",
   "metadata": {
    "scrolled": false
   },
   "outputs": [],
   "source": [
    "clusters = 10\n",
    "inertia = []\n",
    "\n",
    "for n in list(range(1, clusters)):\n",
    "    kmeans_single = cluster.KMeans(n_clusters=n)\n",
    "    kmeans_single = kmeans_single.fit(df_cluster[[\"rating\"]])\n",
    "\n",
    "    print(f\"Number of clusters {n}, Inertia: {kmeans_single.inertia_}\")\n",
    "    inertia.append(kmeans_single.inertia_)\n",
    "\n",
    "    df_cluster[\"cluster\"] = kmeans_single.labels_.astype(\"str\")\n",
    "\n",
    "    fig = px.histogram(df_cluster, x=\"rating\", nbins=20, color=\"cluster\")\n",
    "    fig.show()\n",
    "\n",
    "    scat = px.scatter(df_cluster, x=\"rating\", y=\"zero\", color=\"cluster\")\n",
    "    scat.show()"
   ]
  },
  {
   "cell_type": "code",
   "execution_count": null,
   "id": "a4360d6c",
   "metadata": {},
   "outputs": [],
   "source": [
    "df_inertia = pd.DataFrame(\n",
    "    data=[list(range(1, clusters)), inertia], index=[\"clusters\", \"inertia\"]\n",
    ").T\n",
    "\n",
    "df_inertia[\"improvement\"] = (\n",
    "    -df_inertia[\"inertia\"].diff() / df_inertia[\"inertia\"].shift()\n",
    ")\n",
    "\n",
    "df_inertia"
   ]
  },
  {
   "cell_type": "code",
   "execution_count": null,
   "id": "000c5d5f",
   "metadata": {},
   "outputs": [],
   "source": [
    "scat = px.scatter(df_inertia, x=\"clusters\", y=\"inertia\")\n",
    "scat.show()\n",
    "\n",
    "impro = px.scatter(df_inertia, x=\"clusters\", y=\"improvement\")\n",
    "impro.show()"
   ]
  },
  {
   "cell_type": "code",
   "execution_count": null,
   "id": "3fa41702",
   "metadata": {},
   "outputs": [],
   "source": [
    "n_clusters = 6\n",
    "\n",
    "kmeans_single = cluster.KMeans(n_clusters=n_clusters)\n",
    "kmeans_single = kmeans_single.fit(df_all[[\"rating\"]])\n",
    "\n",
    "print(f\"Number of clusters {n_clusters}, Inertia: {kmeans_single.inertia_}\")\n",
    "\n",
    "df_cluster[\"cluster\"] = kmeans_single.labels_.astype(\"str\")\n",
    "\n",
    "fig = px.histogram(df_cluster, x=\"rating\", nbins=20, color=\"cluster\")\n",
    "fig.show()\n",
    "\n",
    "scat = px.scatter(df_cluster, x=\"rating\", y=\"zero\", color=\"cluster\")\n",
    "scat.show()"
   ]
  },
  {
   "cell_type": "code",
   "execution_count": null,
   "id": "ef071a15",
   "metadata": {
    "scrolled": false
   },
   "outputs": [],
   "source": [
    "for cl, df in df_cluster.groupby(\"cluster\"):\n",
    "    display(f\"Cluster #{cl}\")\n",
    "    display(df.describe())"
   ]
  },
  {
   "cell_type": "markdown",
   "id": "9d124ac8",
   "metadata": {},
   "source": [
    "# Check K-means method for evaluation of the clustering"
   ]
  },
  {
   "cell_type": "markdown",
   "id": "b3a23391",
   "metadata": {},
   "source": [
    "## Cluster the data [Juraj]\n",
    "* Using K-Means (Univariate, Multivariate)\n",
    "* Evaluate quality of the clustering (inertia)\n",
    "* Visualize the clustering"
   ]
  }
 ],
 "metadata": {
  "kernelspec": {
   "display_name": "Python 3 (ipykernel)",
   "language": "python",
   "name": "python3"
  },
  "language_info": {
   "codemirror_mode": {
    "name": "ipython",
    "version": 3
   },
   "file_extension": ".py",
   "mimetype": "text/x-python",
   "name": "python",
   "nbconvert_exporter": "python",
   "pygments_lexer": "ipython3",
   "version": "3.9.12"
  }
 },
 "nbformat": 4,
 "nbformat_minor": 5
}
