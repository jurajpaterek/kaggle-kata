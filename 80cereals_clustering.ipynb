{
 "cells": [
  {
   "cell_type": "markdown",
   "id": "8654aa35",
   "metadata": {},
   "source": [
    "Create clusters (K-means) and visualize them.\n",
    "\n",
    "Description of data https://www.kaggle.com/datasets/crawford/80-cereals?resource=download"
   ]
  }
 ],
 "metadata": {
  "kernelspec": {
   "display_name": "Python 3 (ipykernel)",
   "language": "python",
   "name": "python3"
  },
  "language_info": {
   "codemirror_mode": {
    "name": "ipython",
    "version": 3
   },
   "file_extension": ".py",
   "mimetype": "text/x-python",
   "name": "python",
   "nbconvert_exporter": "python",
   "pygments_lexer": "ipython3",
   "version": "3.9.12"
  }
 },
 "nbformat": 4,
 "nbformat_minor": 5
}
